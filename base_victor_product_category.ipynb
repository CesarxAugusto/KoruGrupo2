{
 "cells": [
  {
   "cell_type": "code",
   "execution_count": null,
   "metadata": {},
   "outputs": [],
   "source": [
    "#chamar o pacote Pandas para utilizar os códigos necessários. Os pacotes geralmente chamam assim, mas não são todos.\n",
    "import pandas as pd\n",
    "#Criei uma variável para a leitura do csv. A variavel é livre. \n",
    "#Estrutura: nome_da_variável=pd.read_csv('nome_do_arquivo.csv')\n",
    "\n",
    "\n",
    "# Rodrigo deu essa ideia de boas práticas na limpesa dele e só aproveitei\n",
    "PATH = 'seeders/product_category_name_translation.csv'\n",
    "CLEAN_PATH = 'clean_datasets/product_category_name_translation.csv'\n",
    "\n",
    "df = pd.read_csv(PATH)\n",
    "\n",
    "#Existe dois meios de ver a tabela:\n",
    "#print(nome_da_base)\n",
    "#display(nome_da_base)\n",
    "# display(df)\n",
    "#Aqui é possível ver o tipo de variáveis das colunas.\n",
    "df.dtypes\n",
    "\n",
    "#Como ver se há células vazias:\n",
    "#nome_da_base.isnull() ou nome_da_base.isnull().any() ou nome_da_base.isnull().any().any() \n",
    "#Tanto faz, o resultado é o mesmo, a visão que é diferente.\n",
    "df.isnull().any()\n",
    "\n",
    "estatisticas = df.describe()\n",
    "# print(estatisticas)\n",
    "\n",
    "# Ranking das cidades dos vendedores com base na frequência\n",
    "ranking_products= df['product_category_name_english'].value_counts()\n",
    "# print(ranking_products)\n",
    "\n",
    "### O ranking de produtos é ineficaz, já que não há elementos repetidos\n",
    "\n",
    "\n",
    "# Cria um novo arquivo csv já limpo e salva nesse caminho\n",
    "df.to_csv(CLEAN_PATH)\n"
   ]
  },
  {
   "cell_type": "markdown",
   "metadata": {},
   "source": [
    "Comentário da base\n",
    "product_category_name: O nome da lista de produto em português\n",
    "product_category_name_english : O nome da lista de produto em inglês "
   ]
  }
 ],
 "metadata": {
  "language_info": {
   "name": "python"
  }
 },
 "nbformat": 4,
 "nbformat_minor": 2
}
