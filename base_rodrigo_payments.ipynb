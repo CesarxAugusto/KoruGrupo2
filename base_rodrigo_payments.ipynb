{
 "cells": [
  {
   "cell_type": "markdown",
   "id": "4e8ff20b-427e-4120-8f16-a6d25b47ddc3",
   "metadata": {},
   "source": [
    "Importar pacote pandas e mapear o caminho da base"
   ]
  },
  {
   "cell_type": "code",
   "execution_count": 1,
   "id": "ddd0a897-a0cb-4c50-af0f-ecfcb6fc6a88",
   "metadata": {},
   "outputs": [],
   "source": [
    "import pandas as pd\n",
    "#carregar o pacote panda\n",
    "\n",
    "# caminho = r'seeders/olist_order_payments_dataset.csv'\n",
    "#localizar o arquivo csv\n",
    "#'r' antes do caminho ajuda a não ler com erro\n",
    "#dou um nome para facilitar futuras chamadas do arquivo\n",
    "\n",
    "\n",
    "# Rodrigo deu essa ideia de boas práticas na limpesa dele e só aproveitei\n",
    "PATH = 'seeders/olist_order_payments_dataset.csv'\n",
    "CLEAN_PATH = 'clean_datasets/olist_order_payments.csv'\n",
    "\n",
    "df = pd.read_csv(PATH)\n",
    "\n",
    "# pd.read_csv(caminho)\n",
    "#leitura da tabela\n",
    "\n",
    "df = pd.read_csv(caminho)\n",
    "#atalho para facilitar futuras pesquisas\n",
    "\n",
    "# df\n",
    "\n",
    "df.info()\n",
    "#informações da tabela\n",
    "\n",
    "df.shape\n",
    "#linhas e colunas\n",
    "\n",
    "df.columns\n",
    "#nome das colunas\n",
    "\n",
    "df.head(10)\n",
    "\n",
    "# traz as primeiras linhas da tabela\n",
    "\n",
    "df.isnull().any()\n",
    "\n",
    "df.describe()\n",
    "\n",
    "# contagem de linhas\n",
    "# media de cada coluna\n",
    "# variação padrão\n",
    "# valor minimo encontrado na coluna\n",
    "# quartis\n",
    "# valor máximo encontrado na coluna\n",
    "\n",
    "soma = df['payment_value'].sum()\n",
    "# print (soma)\n",
    "\n",
    "tipos_pagto = df['payment_type'].unique()\n",
    "# print (tipos_pagto)\n",
    "\n",
    "contagem_tipos_pagto = df['payment_type'].value_counts()\n",
    "# print (contagem_tipos_pagto)\n",
    "\n",
    "# Cria um novo arquivo csv já limpo e salva nesse caminho\n",
    "df.to_csv(CLEAN_PATH, index=False)"
   ]
  }
 ],
 "metadata": {
  "kernelspec": {
   "display_name": "Python 3 (ipykernel)",
   "language": "python",
   "name": "python3"
  },
  "language_info": {
   "codemirror_mode": {
    "name": "ipython",
    "version": 3
   },
   "file_extension": ".py",
   "mimetype": "text/x-python",
   "name": "python",
   "nbconvert_exporter": "python",
   "pygments_lexer": "ipython3",
   "version": "3.11.7"
  }
 },
 "nbformat": 4,
 "nbformat_minor": 5
}
