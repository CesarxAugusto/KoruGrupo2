{
 "cells": [
  {
   "cell_type": "code",
   "execution_count": null,
   "metadata": {},
   "outputs": [],
   "source": [
    "#chamar o pacote Pandas para utilizar os códigos necessários. Os pacotes geralmente chamam assim, mas não são todos.\n",
    "import pandas as pd\n",
    "import numpy as np\n",
    "#Criei uma variável para a leitura do csv. A variavel é livre. \n",
    "#Estrutura: nome_da_variável=pd.read_csv('nome_do_arquivo.csv')\n",
    "\n",
    "# Rodrigo deu essa ideia de boas práticas na limpesa dele e só aproveitei\n",
    "PATH = 'seeders/olist_sellers_dataset.csv'\n",
    "CLEAN_PATH = 'clean_datasets/olist_sellers.csv'\n",
    "\n",
    "df = pd.read_csv(PATH)\n",
    "\n",
    "#Existe dois meios de ver a tabela:\n",
    "#print(nome_da_base)\n",
    "#display(nome_da_base)\n",
    "# display(df)\n",
    "\n",
    "#Aqui é possível ver o tipo de variáveis das colunas.\n",
    "# df.dtypes\n",
    "\n",
    "#Como ver se há células vazias:\n",
    "#nome_da_base.isnull() ou nome_da_base.isnull().any() ou nome_da_base.isnull().any().any() \n",
    "#Tanto faz, o resultado é o mesmo, a visão que é diferente.\n",
    "df.isnull().any()\n",
    "\n",
    "estatisticas = df.describe()\n",
    "# print(estatisticas)\n",
    "\n",
    "# Ranking das cidades dos vendedores com base na frequência\n",
    "ranking_city = df['seller_city'].value_counts().rank(method='first')\n",
    "# print(ranking_city)\n",
    "\n",
    "\n",
    "# Ranking dos estados dos vendedores com base na frequência\n",
    "ranking_state = df['seller_state'].value_counts().rank(method='min')\n",
    "# print(ranking_state)\n",
    "\n",
    "#Ranking do melhor vendedor:\n",
    "\n",
    "#ranking só do vendedor:\n",
    "ranking_vendedores = df['seller_id'].value_counts()\n",
    "\n",
    "#Descobrir quem é o primeiro\n",
    "top_vendedor = ranking_vendedores.idxmax()\n",
    "\n",
    "# Associar o ID do vendedor com a cidade e estado.\n",
    "cidade_estado = df[df['seller_id'] == top_vendedor][['seller_city', 'seller_state']].iloc[0]\n",
    "\n",
    "#Visualizar quem é:\n",
    "print(f\"O vendedor no topo do ranking é {top_vendedor} de {cidade_estado['seller_city']}, {cidade_estado['seller_state']}.\")\n",
    "\n",
    "# Função para calcular o IQR\n",
    "def calcular_iqr(serie):\n",
    "    Q1 = serie.quantile(0.25)\n",
    "    Q3 = serie.quantile(0.75)\n",
    "    IQR = Q3 - Q1\n",
    "    return IQR\n",
    "\n",
    "# Calcular o IQR para cada coluna numérica\n",
    "iqr = df.select_dtypes(include=['int64', 'float64']).apply(calcular_iqr)\n",
    "\n",
    "# Identificar outliers\n",
    "outliers = pd.DataFrame(np.zeros(df.shape, dtype=bool), columns=df.columns) #o dtype foi booleano, V ou F, mas pode ter outra visão\n",
    "for col in iqr.index:\n",
    "    Q1 = df[col].quantile(0.25)\n",
    "    Q3 = df[col].quantile(0.75)\n",
    "    IQR = Q3 - Q1\n",
    "    outliers[col] = (df[col] < (Q1 - 1.5 * IQR)) | (df[col] > (Q3 + 1.5 * IQR))\n",
    "\n",
    "# display(outliers)\n",
    "\n",
    "\n",
    "# Cria um novo arquivo csv já limpo e salva nesse caminho\n",
    "df.to_csv(CLEAN_PATH, index=False)"
   ]
  },
  {
   "cell_type": "markdown",
   "metadata": {},
   "source": [
    "##### Comentário da base: "
   ]
  },
  {
   "cell_type": "markdown",
   "metadata": {},
   "source": [
    "seller_id : ID do vendedor da loja\n",
    "seller_zip_code_prefix : CEP do vendedor da loja\n",
    "seller_city : Cidade do vendedor da loja         \n",
    "seller_state : Estado do vendedor da loja      "
   ]
  }
 ],
 "metadata": {
  "kernelspec": {
   "display_name": "Python 3",
   "language": "python",
   "name": "python3"
  },
  "language_info": {
   "codemirror_mode": {
    "name": "ipython",
    "version": 3
   },
   "file_extension": ".py",
   "mimetype": "text/x-python",
   "name": "python",
   "nbconvert_exporter": "python",
   "pygments_lexer": "ipython3",
   "version": "3.11.9"
  }
 },
 "nbformat": 4,
 "nbformat_minor": 2
}
