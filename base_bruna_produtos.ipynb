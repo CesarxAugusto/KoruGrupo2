{
 "cells": [
  {
   "cell_type": "code",
   "execution_count": 1,
   "metadata": {},
   "outputs": [
    {
     "name": "stdout",
     "output_type": "stream",
     "text": [
      "Existem 0 valores nulos na coluna 'id_produto'.\n"
     ]
    },
    {
     "name": "stderr",
     "output_type": "stream",
     "text": [
      "/tmp/ipykernel_10817/3622062851.py:24: FutureWarning: DataFrame.interpolate with object dtype is deprecated and will raise in a future version. Call obj.infer_objects(copy=False) before interpolating instead.\n",
      "  base_produtos = base_produtos.interpolate()\n"
     ]
    }
   ],
   "source": [
    "import pandas as pd\n",
    "\n",
    "# Rodrigo deu essa ideia de boas práticas na limpesa dele e só aproveitei\n",
    "PATH = 'seeders/olist_products_dataset.csv'\n",
    "CLEAN_PATH = 'clean_datasets/products.csv'\n",
    "\n",
    "# Deixei como df para padronizar os arquivos\n",
    "df = pd.read_csv(PATH)\n",
    "\n",
    "df.describe()\n",
    "df.rename(columns={\n",
    "    'product_id':'id_produto',\n",
    "    'product_category_name':'categoria_produto',\n",
    "    'product_name_lenght': 'comprimento_nome_produto',\n",
    "    'product_description_lenght': 'comprimento_descricao_produto',\n",
    "    'product_photos_qty': 'quantidade_fotos_produto',\n",
    "    'product_weight_g': 'peso_produto_g',\n",
    "    'product_length_cm': 'comprimento_produto_cm',\n",
    "    'product_height_cm': 'altura_produto_cm',\n",
    "    'product_width_cm': 'largura_produto_cm'\n",
    "}, inplace=True)\n",
    "\n",
    "df.describe()\n",
    "\n",
    "df.isnull().any()\n",
    "\n",
    "#Correção:\n",
    "\n",
    "df.isnull().sum()\n",
    "\n",
    "df = df.interpolate()\n",
    "\n",
    "df.isnull().sum()\n",
    "\n",
    "df = df.fillna(value='Desconhecido')\n",
    "linhas_nulas = df[df['id_produto'].isnull()]\n",
    "nulos_count = df['id_produto'].isnull().sum()\n",
    "# print(f\"Existem {nulos_count} valores nulos na coluna 'id_produto'.\")\n",
    "\n",
    "# Cria um novo arquivo csv já limpo e salva nesse caminho\n",
    "df.to_csv(CLEAN_PATH, index=False)"
   ]
  }
 ],
 "metadata": {
  "kernelspec": {
   "display_name": "Python 3",
   "language": "python",
   "name": "python3"
  },
  "language_info": {
   "codemirror_mode": {
    "name": "ipython",
    "version": 3
   },
   "file_extension": ".py",
   "mimetype": "text/x-python",
   "name": "python",
   "nbconvert_exporter": "python",
   "pygments_lexer": "ipython3",
   "version": "3.10.12"
  }
 },
 "nbformat": 4,
 "nbformat_minor": 2
}
