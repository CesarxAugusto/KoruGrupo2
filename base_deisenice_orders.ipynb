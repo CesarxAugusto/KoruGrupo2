{
 "cells": [
  {
   "cell_type": "code",
   "execution_count": 1,
   "metadata": {},
   "outputs": [],
   "source": [
    "import pandas as pd\n",
    "\n",
    "\n",
    "# Rodrigo deu essa ideia de boas práticas na limpesa dele e só aproveitei\n",
    "PATH = 'seeders/olist_orders_dataset.csv'\n",
    "CLEAN_PATH = 'clean_datasets/olist_orders.csv'\n",
    "\n",
    "# Deixei como df para padronizar os arquivos\n",
    "df = pd.read_csv(PATH)\n",
    "\n",
    "# display(df)\n",
    "\n",
    "df.columns\n",
    "df.shape\n",
    "\n",
    "# Correção do nome das colunas\n",
    "df.columns = ['pedido_id', 'cliente_id', 'status', 'data_compra',\n",
    "                      'data_aprovacao_pagamento', 'data_entrega_parceira_logistica', 'entrega_cliente',\n",
    "                      'data_estimada_entrega']\n",
    "\n",
    "# display(df)\n",
    "\n",
    "df.dtypes\n",
    "#  Não existe inconsistência em relação ao tipo da variável\n",
    "\n",
    "df['status'].unique()\n",
    "# Não existe inconsistências aqui também\n",
    "\n",
    "duplicados_id_pedido = df['pedido_id'].duplicated()\n",
    "duplicados_id_pedido.sum()\n",
    "\n",
    "# Substituímos os valores nulos por zero por se tratarem de data, então não é possível trocar pela moda ou pela mediana.\n",
    "df = df.fillna(0)\n",
    "df.isnull().sum()\n",
    "\n",
    "# Cria um novo arquivo csv já limpo e salva nesse caminho\n",
    "df.to_csv(CLEAN_PATH, index=False)"
   ]
  }
 ],
 "metadata": {
  "kernelspec": {
   "display_name": "Python 3",
   "language": "python",
   "name": "python3"
  },
  "language_info": {
   "codemirror_mode": {
    "name": "ipython",
    "version": 3
   },
   "file_extension": ".py",
   "mimetype": "text/x-python",
   "name": "python",
   "nbconvert_exporter": "python",
   "pygments_lexer": "ipython3",
   "version": "3.10.12"
  }
 },
 "nbformat": 4,
 "nbformat_minor": 2
}
